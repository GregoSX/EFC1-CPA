{
  "cells": [
    {
      "cell_type": "markdown",
      "metadata": {
        "id": "view-in-github",
        "colab_type": "text"
      },
      "source": [
        "<a href=\"https://colab.research.google.com/github/GregoSX/EFC1-CPA/blob/main/EFC1.ipynb\" target=\"_parent\"><img src=\"https://colab.research.google.com/assets/colab-badge.svg\" alt=\"Open In Colab\"/></a>"
      ]
    },
    {
      "cell_type": "markdown",
      "metadata": {
        "id": "XAdlKnDBj5uB"
      },
      "source": [
        "# EFC1 GCC253 - Complexidade e Projeto de Algoritmos - 5 pontos.\n",
        "\n",
        "\n",
        "> **Prof.: Douglas H. S. Abreu**\n",
        "\n",
        "\n",
        "**Integrantes**: \n",
        "\n",
        "- Guilherme Grego Santos - 202020417\n",
        "- Lucas Neves Saber Gabriel - 202020459\n",
        "- Otávio Augusto Trindade Fonseca - 202020551\n",
        "- Thiago Odilon de Almeida - 202021025\n",
        "\n",
        "**Turma**: 10A\n",
        "\n",
        "Link do repositório GitHub: https://github.com/GregoSX/EFC1-CPA.git\n",
        "\n",
        "● O trabalho deve ser feito em grupos de no máximo 4 componentes (Apenas um deve enviar a atividade no Campus Virtual)\n",
        "\n",
        "● Trabalhos entregues após a data limite não serão aceitos\n",
        "\n",
        "● Data limite de entrega: 20 de Novembro de 2022 : 23h55m\n",
        "\n",
        "● Enviar o trabalho para o campus virtual, do seguinte modo: link do repositório GitHub com acesso ao Notebook.\n",
        "\n",
        "● O trabalho deve ser desenvolvido no modelo Notebook utilizando preferencialmente a linguagem Python"
      ]
    },
    {
      "cell_type": "markdown",
      "metadata": {
        "id": "J3d6JlRUxREN"
      },
      "source": [
        "# Importações e Variáveis globais"
      ]
    },
    {
      "cell_type": "code",
      "execution_count": null,
      "metadata": {
        "id": "Ur1DVGQAxac4"
      },
      "outputs": [],
      "source": [
        "import numpy as np\n",
        "\n",
        "global_1=0"
      ]
    },
    {
      "cell_type": "markdown",
      "metadata": {
        "id": "kPNpzNYwkKAO"
      },
      "source": [
        "# Funções de Ordenação\n",
        "\n",
        "> Utilize este espaço para definir as funções de ordenação.\n",
        "\n"
      ]
    },
    {
      "cell_type": "markdown",
      "metadata": {
        "id": "nEw1UEsmoKMg"
      },
      "source": [
        "##  Insertion Sort\n"
      ]
    },
    {
      "cell_type": "code",
      "execution_count": 1,
      "metadata": {
        "id": "kbOrhdB-j_px",
        "colab": {
          "base_uri": "https://localhost:8080/"
        },
        "outputId": "622a762b-ead6-4cc5-c1ae-f1d249f0e2e7"
      },
      "outputs": [
        {
          "output_type": "stream",
          "name": "stdout",
          "text": [
            "Vetor 1 ordenado =  [-14, -13, -10, -9, -8]\n",
            "Vetor 2 ordenado =  [-1, 0, 1, 2, 3]\n",
            "Vetor 3 ordenado =  [6, 11, 12, 13, 14]\n"
          ]
        }
      ],
      "source": [
        "import random\n",
        "\n",
        "def InsertionSort(A):\n",
        "  for j in range(1, len(A)):\n",
        "    chave = A[j]\n",
        "    i = j-1\n",
        "    while i >= 0 and A[i] > chave:\n",
        "      A[i+1] = A[i]\n",
        "      i = i - 1\n",
        "    A[i+1] = chave\n",
        "\n",
        "vetor1 = random.sample(range(-15, -5), 5)\n",
        "vetor2 = random.sample(range(-4, 5), 5)\n",
        "vetor3 = random.sample(range(6, 15), 5)\n",
        "\n",
        "InsertionSort(vetor1)\n",
        "InsertionSort(vetor2)\n",
        "InsertionSort(vetor3)\n",
        "\n",
        "print(\"Vetor 1 ordenado = \", vetor1)\n",
        "print(\"Vetor 2 ordenado = \", vetor2)\n",
        "print(\"Vetor 3 ordenado = \", vetor3)"
      ]
    },
    {
      "cell_type": "markdown",
      "metadata": {
        "id": "9a-wJwU-wtmQ"
      },
      "source": [
        "##  Merge Sort\n"
      ]
    },
    {
      "cell_type": "code",
      "execution_count": null,
      "metadata": {
        "id": "8cgIJ_4EwbPN"
      },
      "outputs": [],
      "source": [
        "def mergeSort():\n",
        "  \n",
        "  return"
      ]
    },
    {
      "cell_type": "markdown",
      "metadata": {
        "id": "8dWpeYUvw-wU"
      },
      "source": [
        "##  Selection Sort\n"
      ]
    },
    {
      "cell_type": "code",
      "execution_count": 2,
      "metadata": {
        "id": "vNgUDShawygu",
        "colab": {
          "base_uri": "https://localhost:8080/"
        },
        "outputId": "56608023-d8d8-44bd-d56a-11b505adad10"
      },
      "outputs": [
        {
          "output_type": "stream",
          "name": "stdout",
          "text": [
            "Vetor 1 ordenado =  [-15, -12, -11, -9, -6]\n",
            "Vetor 2 ordenado =  [-4, -3, -1, 0, 1]\n",
            "Vetor 3 ordenado =  [6, 8, 10, 12, 14]\n"
          ]
        }
      ],
      "source": [
        "import random\n",
        "\n",
        "def SelectionSort(Array):\n",
        "  tam = len(Array)\n",
        "  for i in range(tam):\n",
        "    menor = i\n",
        "    for j in range(i + 1, tam):\n",
        "      if (Array[menor] > Array[j]):\n",
        "        menor = j\n",
        "    temp = Array[i]\n",
        "    Array[i] = Array[menor]\n",
        "    Array[menor] = temp\n",
        "\n",
        "vetor1 = random.sample(range(-15, -5), 5)\n",
        "vetor2 = random.sample(range(-4, 5), 5)\n",
        "vetor3 = random.sample(range(6, 15), 5)\n",
        "\n",
        "SelectionSort(vetor1)\n",
        "SelectionSort(vetor2)\n",
        "SelectionSort(vetor3)\n",
        "\n",
        "print(\"Vetor 1 ordenado = \", vetor1)\n",
        "print(\"Vetor 2 ordenado = \", vetor2)\n",
        "print(\"Vetor 3 ordenado = \", vetor3)"
      ]
    },
    {
      "cell_type": "markdown",
      "metadata": {
        "id": "zNI1kX0yyDrs"
      },
      "source": [
        "##  Bubble Sort\n"
      ]
    },
    {
      "cell_type": "code",
      "execution_count": null,
      "metadata": {
        "id": "6X_zk1yWxMQS"
      },
      "outputs": [],
      "source": [
        "def bubbleSort():\n",
        "  \n",
        "  return"
      ]
    },
    {
      "cell_type": "markdown",
      "metadata": {
        "id": "vk4vOTkKyLB-"
      },
      "source": [
        "## Heap Sort"
      ]
    },
    {
      "cell_type": "code",
      "execution_count": null,
      "metadata": {
        "id": "39a7xXzLyH9g"
      },
      "outputs": [],
      "source": [
        "def heapSort():\n",
        "  \n",
        "  return"
      ]
    },
    {
      "cell_type": "markdown",
      "metadata": {
        "id": "fFiGho5CyU3t"
      },
      "source": [
        "## Quick Sort com pivo sendo o ultimo elemento do arranjo\n",
        "\n",
        "> pivo = *A[A-comprimento]*"
      ]
    },
    {
      "cell_type": "code",
      "execution_count": null,
      "metadata": {
        "id": "1Ie_N5CRyKY7"
      },
      "outputs": [],
      "source": [
        "def quickSort():\n",
        "  \n",
        "  return"
      ]
    }
  ],
  "metadata": {
    "colab": {
      "collapsed_sections": [
        "kPNpzNYwkKAO",
        "nEw1UEsmoKMg",
        "9a-wJwU-wtmQ",
        "8dWpeYUvw-wU",
        "zNI1kX0yyDrs",
        "vk4vOTkKyLB-"
      ],
      "provenance": [],
      "toc_visible": true,
      "include_colab_link": true
    },
    "kernelspec": {
      "display_name": "Python 3",
      "name": "python3"
    },
    "language_info": {
      "name": "python"
    }
  },
  "nbformat": 4,
  "nbformat_minor": 0
}